{
 "cells": [
  {
   "cell_type": "markdown",
   "metadata": {},
   "source": [
    "Trial one: Using SparkML"
   ]
  },
  {
   "cell_type": "code",
   "execution_count": 1,
   "metadata": {},
   "outputs": [
    {
     "name": "stderr",
     "output_type": "stream",
     "text": [
      "D:\\Anaconda\\lib\\site-packages\\pyspark\\sql\\context.py:112: FutureWarning: Deprecated in 3.0.0. Use SparkSession.builder.getOrCreate() instead.\n",
      "  warnings.warn(\n"
     ]
    }
   ],
   "source": [
    "import pyspark\n",
    "from pyspark.sql.functions import col, when, regexp_extract, count, isnan, collect_set, lit\n",
    "from pyspark.sql import SparkSession\n",
    "from pyspark import SparkContext, SQLContext\n",
    "\n",
    "appName = \"Big Data Analytics\"\n",
    "master = \"local\"\n",
    "\n",
    "# Create Configuration object for Spark.\n",
    "conf = pyspark.SparkConf()\\\n",
    "    .set('spark.driver.host','127.0.0.1')\\\n",
    "    .setAppName(appName)\\\n",
    "    .setMaster(master)\n",
    "\n",
    "sc = SparkContext.getOrCreate(conf=conf)\n",
    "\n",
    "sqlContext = SQLContext(sc)\n",
    "\n",
    "spark = sqlContext.sparkSession.builder.getOrCreate()"
   ]
  },
  {
   "cell_type": "code",
   "execution_count": 30,
   "metadata": {},
   "outputs": [],
   "source": [
    "col_names = [\"subject_no\", \"Gender\", \"mean_hr\", \"avnn_ms\", \"sdnn_ms\", \n",
    "    \"nn50\", \"pnn50\", \"rmssd\", \"lf\", \"lf_norm\", \"hf_ms2\", \"hf_norm\", \"lf_hf_ratio\", \"Stress_level\"]"
   ]
  },
  {
   "cell_type": "code",
   "execution_count": 31,
   "metadata": {},
   "outputs": [
    {
     "name": "stdout",
     "output_type": "stream",
     "text": [
      "+----------+------+-------+--------+-------+----+-------+-------+--------+-------+--------+-------+-----------+------------+\n",
      "|subject_no|Gender|mean_hr| avnn_ms|sdnn_ms|nn50|  pnn50|  rmssd|      lf|lf_norm|  hf_ms2|hf_norm|lf_hf_ratio|Stress_level|\n",
      "+----------+------+-------+--------+-------+----+-------+-------+--------+-------+--------+-------+-----------+------------+\n",
      "|         1|Female|85.8474|698.9147|45.8957|  46|10.7477|29.6913|412.1663|46.8523|467.3008|53.1197|      0.882|          EO|\n",
      "|         2|Female|88.3727|678.9429|23.8804|   0|    0.0|11.6837|314.3801|87.1339| 46.3382|12.8431|     6.7845|          EO|\n",
      "|         3|Female|79.4924|754.7887|50.0888|  71|17.4877| 37.805|612.5444|45.8684|722.3938|54.0941|     0.8479|          EO|\n",
      "|         4|Female|78.8327|761.1057|41.4575|  27| 6.4593|27.0164|446.1722|64.1144|249.5922|35.8661|     1.7876|          EO|\n",
      "+----------+------+-------+--------+-------+----+-------+-------+--------+-------+--------+-------+-----------+------------+\n",
      "only showing top 4 rows\n",
      "\n"
     ]
    }
   ],
   "source": [
    "df = spark.read.csv(\"D:\\Spring 25\\Projects in Biomedical AI\\zenflow\\dataset\\ECG (EO, AC1, AC2).csv\",header=True, inferSchema= True).toDF(*col_names)\n",
    "df.show(4)"
   ]
  },
  {
   "cell_type": "code",
   "execution_count": 32,
   "metadata": {},
   "outputs": [
    {
     "name": "stdout",
     "output_type": "stream",
     "text": [
      "root\n",
      " |-- subject_no: integer (nullable = true)\n",
      " |-- Gender: string (nullable = true)\n",
      " |-- mean_hr: double (nullable = true)\n",
      " |-- avnn_ms: double (nullable = true)\n",
      " |-- sdnn_ms: double (nullable = true)\n",
      " |-- nn50: integer (nullable = true)\n",
      " |-- pnn50: double (nullable = true)\n",
      " |-- rmssd: double (nullable = true)\n",
      " |-- lf: double (nullable = true)\n",
      " |-- lf_norm: double (nullable = true)\n",
      " |-- hf_ms2: double (nullable = true)\n",
      " |-- hf_norm: double (nullable = true)\n",
      " |-- lf_hf_ratio: double (nullable = true)\n",
      " |-- Stress_level: string (nullable = true)\n",
      "\n"
     ]
    }
   ],
   "source": [
    "df.printSchema()"
   ]
  },
  {
   "cell_type": "code",
   "execution_count": 46,
   "metadata": {},
   "outputs": [],
   "source": [
    "#Handling binary variables Gender and one hot encoding stress_level\n",
    "df_drop = df.withColumn(\"Gender\", \n",
    "            when(df[\"Gender\"] == \"Male\", 1)\n",
    "            .when(df[\"Gender\"] == \"Female\", 0)\n",
    "             .otherwise(df[\"Gender\"]))\n",
    "\n",
    "df_drop = df_drop.withColumn(\"Stress_level\",\n",
    "                             when(df_drop['Stress_level'] == 'EO',0)\n",
    "                             .when(df_drop['Stress_level'] == 'AC1',1)\n",
    "                             .when(df_drop['Stress_level'] == 'AC2',2))"
   ]
  },
  {
   "cell_type": "code",
   "execution_count": 47,
   "metadata": {},
   "outputs": [],
   "source": [
    "df_binary = (df_drop.withColumn(\"gender\", df_drop['Gender'].cast('integer')))\n",
    "df_binary = (df_binary.withColumn(\"stress_level\", df_drop['Stress_level'].cast('integer')))"
   ]
  },
  {
   "cell_type": "code",
   "execution_count": 48,
   "metadata": {},
   "outputs": [
    {
     "name": "stdout",
     "output_type": "stream",
     "text": [
      "[0, 1, 2]\n"
     ]
    }
   ],
   "source": [
    "#df_binary.show(3)\n",
    "\n",
    "#Distinct entries check\n",
    "distinct_rows = df_binary.select(collect_set(\"stress_level\")).first()[0]\n",
    "print(distinct_rows)"
   ]
  },
  {
   "cell_type": "markdown",
   "metadata": {},
   "source": [
    "Preprocessing done, assembling vectors and input in model"
   ]
  },
  {
   "cell_type": "code",
   "execution_count": 51,
   "metadata": {},
   "outputs": [],
   "source": [
    "from pyspark.ml.feature import VectorAssembler, StandardScaler\n",
    "from pyspark.ml import Pipeline\n",
    "\n",
    "# Assembling all features into a single vector\n",
    "assembler = VectorAssembler(inputCols=df_binary.columns,outputCol=\"features\")\n",
    "\n",
    "# Scaling features\n",
    "scaler = StandardScaler(inputCol=\"features\", outputCol=\"scaled_features\")\n"
   ]
  },
  {
   "cell_type": "code",
   "execution_count": 53,
   "metadata": {},
   "outputs": [],
   "source": [
    "pipeline = Pipeline(stages= [assembler, scaler])\n",
    "pipeline_model = pipeline.fit(df_binary)\n",
    "df_encoded = pipeline_model.transform(df_binary)"
   ]
  },
  {
   "cell_type": "code",
   "execution_count": 55,
   "metadata": {},
   "outputs": [
    {
     "name": "stdout",
     "output_type": "stream",
     "text": [
      "+----------+------+-------+--------+-------+----+-------+-------+--------+-------+--------+-------+-----------+------------+--------------------+--------------------+\n",
      "|subject_no|gender|mean_hr| avnn_ms|sdnn_ms|nn50|  pnn50|  rmssd|      lf|lf_norm|  hf_ms2|hf_norm|lf_hf_ratio|stress_level|            features|     scaled_features|\n",
      "+----------+------+-------+--------+-------+----+-------+-------+--------+-------+--------+-------+-----------+------------+--------------------+--------------------+\n",
      "|         1|     0|85.8474|698.9147|45.8957|  46|10.7477|29.6913|412.1663|46.8523|467.3008|53.1197|      0.882|           0|[1.0,0.0,85.8474,...|[0.08626790448707...|\n",
      "|         2|     0|88.3727|678.9429|23.8804|   0|    0.0|11.6837|314.3801|87.1339| 46.3382|12.8431|     6.7845|           0|[2.0,0.0,88.3727,...|[0.17253580897414...|\n",
      "|         3|     0|79.4924|754.7887|50.0888|  71|17.4877| 37.805|612.5444|45.8684|722.3938|54.0941|     0.8479|           0|[3.0,0.0,79.4924,...|[0.25880371346121...|\n",
      "+----------+------+-------+--------+-------+----+-------+-------+--------+-------+--------+-------+-----------+------------+--------------------+--------------------+\n",
      "only showing top 3 rows\n",
      "\n"
     ]
    }
   ],
   "source": [
    "df_encoded.show(3)"
   ]
  },
  {
   "cell_type": "code",
   "execution_count": 56,
   "metadata": {},
   "outputs": [
    {
     "name": "stdout",
     "output_type": "stream",
     "text": [
      "+------------+--------------------+\n",
      "|stress_level|     scaled_features|\n",
      "+------------+--------------------+\n",
      "|           0|[0.08626790448707...|\n",
      "|           0|[0.17253580897414...|\n",
      "|           0|[0.25880371346121...|\n",
      "|           0|[0.34507161794828...|\n",
      "+------------+--------------------+\n",
      "only showing top 4 rows\n",
      "\n"
     ]
    }
   ],
   "source": [
    "df_ready = df_encoded.select('stress_level', 'scaled_features')\n",
    "df_ready.show(4)"
   ]
  },
  {
   "cell_type": "markdown",
   "metadata": {},
   "source": [
    "Random Forest  Classifier "
   ]
  },
  {
   "cell_type": "code",
   "execution_count": 59,
   "metadata": {},
   "outputs": [],
   "source": [
    "from pyspark.ml.classification import RandomForestClassifier\n",
    "from pyspark.ml.evaluation import MulticlassClassificationEvaluator\n",
    "\n",
    "train_data, test_data = df_ready.randomSplit([0.8, 0.2], seed=42)"
   ]
  },
  {
   "cell_type": "code",
   "execution_count": 60,
   "metadata": {},
   "outputs": [],
   "source": [
    "rf = RandomForestClassifier(featuresCol=\"scaled_features\", labelCol=\"stress_level\", numTrees=50, maxDepth=5, seed=42)\n",
    "model = rf.fit(train_data)"
   ]
  },
  {
   "cell_type": "code",
   "execution_count": null,
   "metadata": {},
   "outputs": [
    {
     "name": "stdout",
     "output_type": "stream",
     "text": [
      "Test Accuracy: 0.95\n"
     ]
    }
   ],
   "source": [
    "predictions = model.transform(test_data)\n",
    "\n",
    "evaluator = MulticlassClassificationEvaluator(labelCol=\"stress_level\", predictionCol=\"prediction\", metricName=\"accuracy\")\n",
    "accuracy = evaluator.evaluate(predictions)\n"
   ]
  },
  {
   "cell_type": "code",
   "execution_count": 63,
   "metadata": {},
   "outputs": [
    {
     "name": "stdout",
     "output_type": "stream",
     "text": [
      "Test Accuracy!!!!!!: 0.95\n"
     ]
    }
   ],
   "source": [
    "print(f\"Test Accuracy!!!!!!: {accuracy:.2f}\")"
   ]
  }
 ],
 "metadata": {
  "kernelspec": {
   "display_name": "Python 3 (ipykernel)",
   "language": "python",
   "name": "python3"
  },
  "language_info": {
   "codemirror_mode": {
    "name": "ipython",
    "version": 3
   },
   "file_extension": ".py",
   "mimetype": "text/x-python",
   "name": "python",
   "nbconvert_exporter": "python",
   "pygments_lexer": "ipython3",
   "version": "3.9.18"
  }
 },
 "nbformat": 4,
 "nbformat_minor": 2
}
