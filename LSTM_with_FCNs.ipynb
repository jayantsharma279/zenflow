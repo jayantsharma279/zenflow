{
 "cells": [
  {
   "cell_type": "code",
   "execution_count": 1,
   "id": "795fa4af-0b18-46c9-b9b3-9b942aa6d52e",
   "metadata": {},
   "outputs": [],
   "source": [
    "import torch\n",
    "import torch.nn as nn\n",
    "import torch.optim as optim\n",
    "import pandas as pd\n",
    "import numpy as np\n",
    "from torch.utils.data import Dataset, DataLoader\n",
    "from sklearn.model_selection import train_test_split\n",
    "from tqdm import tqdm\n",
    "import seaborn as sns\n",
    "from scipy.stats import mode\n",
    "import matplotlib.pyplot as plt\n",
    "from sklearn.preprocessing import StandardScaler\n"
   ]
  },
  {
   "cell_type": "code",
   "execution_count": 2,
   "id": "41ce44ed-4fba-4e5d-8e96-669fb4165173",
   "metadata": {},
   "outputs": [],
   "source": [
    "# Define the LSTM Model\n",
    "class StressLSTM(nn.Module):\n",
    "    def __init__(self, input_size, hidden_size, num_layers, output_size):\n",
    "        super(StressLSTM, self).__init__()\n",
    "        \n",
    "        # LSTM branch\n",
    "        self.lstm = nn.LSTM(input_size, hidden_size, num_layers, batch_first=True)\n",
    "        self.lstm_dropout = nn.Dropout(0.8)\n",
    "        \n",
    "        # FCN branch\n",
    "        self.conv1 = nn.Conv1d(input_size, 128, kernel_size=8, padding='same')\n",
    "        self.bn1 = nn.BatchNorm1d(128)\n",
    "        self.relu1 = nn.ReLU()\n",
    "        \n",
    "        self.conv2 = nn.Conv1d(128, 256, kernel_size=5, padding='same')\n",
    "        self.bn2 = nn.BatchNorm1d(256)\n",
    "        self.relu2 = nn.ReLU()\n",
    "        \n",
    "        self.conv3 = nn.Conv1d(256, 128, kernel_size=3, padding='same')\n",
    "        self.bn3 = nn.BatchNorm1d(128)\n",
    "        self.relu3 = nn.ReLU()\n",
    "        \n",
    "        self.global_pool = nn.AdaptiveAvgPool1d(1)\n",
    "        \n",
    "        # Fully connected layer\n",
    "        self.fc = nn.Linear(hidden_size + 128, output_size)\n",
    "        \n",
    "    def forward(self, x):\n",
    "        # LSTM branch\n",
    "        lstm_out, _ = self.lstm(x)\n",
    "        lstm_out = self.lstm_dropout(lstm_out[:, -1, :])  # Only take the output of the last time step\n",
    "        \n",
    "        # FCN branch\n",
    "        # Convert input from (batch_size, seq_len, input_size) to (batch_size, input_size, seq_len)\n",
    "        fcn_in = x.permute(0, 2, 1)\n",
    "        \n",
    "        fcn_out = self.conv1(fcn_in)\n",
    "        fcn_out = self.bn1(fcn_out)\n",
    "        fcn_out = self.relu1(fcn_out)\n",
    "        \n",
    "        fcn_out = self.conv2(fcn_out)\n",
    "        fcn_out = self.bn2(fcn_out)\n",
    "        fcn_out = self.relu2(fcn_out)\n",
    "        \n",
    "        fcn_out = self.conv3(fcn_out)\n",
    "        fcn_out = self.bn3(fcn_out)\n",
    "        fcn_out = self.relu3(fcn_out)\n",
    "        \n",
    "        fcn_out = self.global_pool(fcn_out).squeeze(-1)\n",
    "        \n",
    "        # Concatenate outputs from both branches\n",
    "        combined = torch.cat([lstm_out, fcn_out], dim=1)\n",
    "        \n",
    "        # Get final output through fully connected layer\n",
    "        output = self.fc(combined)\n",
    "        return output"
   ]
  },
  {
   "cell_type": "code",
   "execution_count": 5,
   "id": "edfb2c47-582d-4e5b-b2f5-f80b8840e18e",
   "metadata": {},
   "outputs": [],
   "source": [
    "class StressDataset(Dataset):\n",
    "    def __init__(self, X, y):\n",
    "        self.data = X  # Shape: (num_samples, sequence_length, 2)\n",
    "        self.labels = y  # Shape: (num_samples,)\n",
    "\n",
    "    def __len__(self):\n",
    "        return len(self.labels)\n",
    "\n",
    "    def __getitem__(self, idx):\n",
    "        return self.data[idx], self.labels[idx]"
   ]
  },
  {
   "cell_type": "code",
   "execution_count": 7,
   "id": "57c88e02-eb83-42a8-b365-abd7f161b758",
   "metadata": {},
   "outputs": [
    {
     "data": {
      "text/html": [
       "<div>\n",
       "<style scoped>\n",
       "    .dataframe tbody tr th:only-of-type {\n",
       "        vertical-align: middle;\n",
       "    }\n",
       "\n",
       "    .dataframe tbody tr th {\n",
       "        vertical-align: top;\n",
       "    }\n",
       "\n",
       "    .dataframe thead th {\n",
       "        text-align: right;\n",
       "    }\n",
       "</style>\n",
       "<table border=\"1\" class=\"dataframe\">\n",
       "  <thead>\n",
       "    <tr style=\"text-align: right;\">\n",
       "      <th></th>\n",
       "      <th>subject_id</th>\n",
       "      <th>chest_ecg</th>\n",
       "      <th>chest_eda</th>\n",
       "      <th>wrist_eda</th>\n",
       "      <th>label</th>\n",
       "      <th>time_idx</th>\n",
       "      <th>HR</th>\n",
       "    </tr>\n",
       "  </thead>\n",
       "  <tbody>\n",
       "    <tr>\n",
       "      <th>0</th>\n",
       "      <td>S10</td>\n",
       "      <td>-0.270937</td>\n",
       "      <td>1.217492</td>\n",
       "      <td>0.566738</td>\n",
       "      <td>0</td>\n",
       "      <td>0</td>\n",
       "      <td>71.00</td>\n",
       "    </tr>\n",
       "    <tr>\n",
       "      <th>1</th>\n",
       "      <td>S10</td>\n",
       "      <td>0.358251</td>\n",
       "      <td>0.634702</td>\n",
       "      <td>0.290674</td>\n",
       "      <td>0</td>\n",
       "      <td>1</td>\n",
       "      <td>71.00</td>\n",
       "    </tr>\n",
       "    <tr>\n",
       "      <th>2</th>\n",
       "      <td>S10</td>\n",
       "      <td>-0.041796</td>\n",
       "      <td>0.771482</td>\n",
       "      <td>0.361436</td>\n",
       "      <td>0</td>\n",
       "      <td>2</td>\n",
       "      <td>70.67</td>\n",
       "    </tr>\n",
       "    <tr>\n",
       "      <th>3</th>\n",
       "      <td>S10</td>\n",
       "      <td>-0.004169</td>\n",
       "      <td>0.690666</td>\n",
       "      <td>0.318656</td>\n",
       "      <td>0</td>\n",
       "      <td>3</td>\n",
       "      <td>71.25</td>\n",
       "    </tr>\n",
       "    <tr>\n",
       "      <th>4</th>\n",
       "      <td>S10</td>\n",
       "      <td>-0.012300</td>\n",
       "      <td>0.748142</td>\n",
       "      <td>0.348848</td>\n",
       "      <td>0</td>\n",
       "      <td>4</td>\n",
       "      <td>72.20</td>\n",
       "    </tr>\n",
       "  </tbody>\n",
       "</table>\n",
       "</div>"
      ],
      "text/plain": [
       "  subject_id  chest_ecg  chest_eda  wrist_eda  label  time_idx     HR\n",
       "0        S10  -0.270937   1.217492   0.566738      0         0  71.00\n",
       "1        S10   0.358251   0.634702   0.290674      0         1  71.00\n",
       "2        S10  -0.041796   0.771482   0.361436      0         2  70.67\n",
       "3        S10  -0.004169   0.690666   0.318656      0         3  71.25\n",
       "4        S10  -0.012300   0.748142   0.348848      0         4  72.20"
      ]
     },
     "execution_count": 7,
     "metadata": {},
     "output_type": "execute_result"
    }
   ],
   "source": [
    "df = pd.read_csv('WESAD_Processed_1Hz_Updated.csv')\n",
    "df.head()"
   ]
  },
  {
   "cell_type": "code",
   "execution_count": 8,
   "id": "24f39c1b-1ffc-4d0e-85a2-a1042861ce10",
   "metadata": {},
   "outputs": [
    {
     "name": "stdout",
     "output_type": "stream",
     "text": [
      "86868\n",
      "label\n",
      "0    39507\n",
      "1    17611\n",
      "4    11806\n",
      "2     9966\n",
      "3     5575\n",
      "7      824\n",
      "6      790\n",
      "5      789\n",
      "Name: count, dtype: int64\n"
     ]
    }
   ],
   "source": [
    "#How many values in each label?\n",
    "print(len(df['chest_ecg']))\n",
    "print(df['label'].value_counts())"
   ]
  },
  {
   "cell_type": "code",
   "execution_count": 11,
   "id": "01e828c6-533b-456b-9cce-992630cd7860",
   "metadata": {},
   "outputs": [
    {
     "name": "stdout",
     "output_type": "stream",
     "text": [
      "label\n",
      "0    17611\n",
      "1     9966\n",
      "Name: count, dtype: int64\n"
     ]
    }
   ],
   "source": [
    "#Remove everything except 1 and 2 \n",
    "df_binary = df[df['label'].isin([1, 2])].copy()\n",
    "df_binary['label'] = df_binary['label'].map({1: 0, 2: 1})\n",
    "print(df_binary['label'].value_counts())  # 0 = baseline, 1 = stress"
   ]
  },
  {
   "cell_type": "code",
   "execution_count": 12,
   "id": "a81c60ae-aa62-4fef-b5e0-5509ff468506",
   "metadata": {},
   "outputs": [
    {
     "data": {
      "text/html": [
       "<div>\n",
       "<style scoped>\n",
       "    .dataframe tbody tr th:only-of-type {\n",
       "        vertical-align: middle;\n",
       "    }\n",
       "\n",
       "    .dataframe tbody tr th {\n",
       "        vertical-align: top;\n",
       "    }\n",
       "\n",
       "    .dataframe thead th {\n",
       "        text-align: right;\n",
       "    }\n",
       "</style>\n",
       "<table border=\"1\" class=\"dataframe\">\n",
       "  <thead>\n",
       "    <tr style=\"text-align: right;\">\n",
       "      <th></th>\n",
       "      <th>label</th>\n",
       "      <th>chest_ecg</th>\n",
       "      <th>chest_eda</th>\n",
       "      <th>wrist_eda</th>\n",
       "      <th>HR</th>\n",
       "    </tr>\n",
       "  </thead>\n",
       "  <tbody>\n",
       "    <tr>\n",
       "      <th>0</th>\n",
       "      <td>0</td>\n",
       "      <td>0.731108</td>\n",
       "      <td>-1.107460</td>\n",
       "      <td>-0.618136</td>\n",
       "      <td>0.641550</td>\n",
       "    </tr>\n",
       "    <tr>\n",
       "      <th>1</th>\n",
       "      <td>0</td>\n",
       "      <td>-0.468365</td>\n",
       "      <td>-1.106933</td>\n",
       "      <td>-0.609143</td>\n",
       "      <td>0.644511</td>\n",
       "    </tr>\n",
       "    <tr>\n",
       "      <th>2</th>\n",
       "      <td>0</td>\n",
       "      <td>-0.031409</td>\n",
       "      <td>-1.107574</td>\n",
       "      <td>-0.614119</td>\n",
       "      <td>0.656356</td>\n",
       "    </tr>\n",
       "    <tr>\n",
       "      <th>3</th>\n",
       "      <td>0</td>\n",
       "      <td>0.139050</td>\n",
       "      <td>-1.106872</td>\n",
       "      <td>-0.581234</td>\n",
       "      <td>0.656356</td>\n",
       "    </tr>\n",
       "    <tr>\n",
       "      <th>4</th>\n",
       "      <td>0</td>\n",
       "      <td>-0.109697</td>\n",
       "      <td>-1.107281</td>\n",
       "      <td>-0.598222</td>\n",
       "      <td>0.659317</td>\n",
       "    </tr>\n",
       "  </tbody>\n",
       "</table>\n",
       "</div>"
      ],
      "text/plain": [
       "   label  chest_ecg  chest_eda  wrist_eda        HR\n",
       "0      0   0.731108  -1.107460  -0.618136  0.641550\n",
       "1      0  -0.468365  -1.106933  -0.609143  0.644511\n",
       "2      0  -0.031409  -1.107574  -0.614119  0.656356\n",
       "3      0   0.139050  -1.106872  -0.581234  0.656356\n",
       "4      0  -0.109697  -1.107281  -0.598222  0.659317"
      ]
     },
     "execution_count": 12,
     "metadata": {},
     "output_type": "execute_result"
    }
   ],
   "source": [
    "# Exclude 'labels', 'subject_id', and 'time_idx' from scaling\n",
    "columns_to_scale = df_binary.drop(columns=['subject_id', 'time_idx', 'label']).columns\n",
    "scaler = StandardScaler()\n",
    "scaled_array = scaler.fit_transform(df_binary[columns_to_scale])\n",
    "scaled_df = pd.DataFrame(scaled_array, columns=columns_to_scale)\n",
    "df_binary= pd.concat([df_binary[['label']].reset_index(drop=True), scaled_df.reset_index(drop=True)],axis=1)\n",
    "df_binary.head()\n"
   ]
  },
  {
   "cell_type": "code",
   "execution_count": 17,
   "id": "71aef8f7-5042-420c-832f-15a253dd3323",
   "metadata": {},
   "outputs": [],
   "source": [
    "def create_sequences(chest_ecg, chest_eda, wrist_eda, HR, labels, seq_len):\n",
    "    num_samples = len(chest_ecg) // seq_len  # Number of full sequences\n",
    "\n",
    "    # Truncate and reshape inputs\n",
    "    ecg_seq = chest_ecg[:num_samples * seq_len].reshape(num_samples, seq_len)\n",
    "    eda_seq = chest_eda[:num_samples * seq_len].reshape(num_samples, seq_len)\n",
    "    wrist_seq = wrist_eda[:num_samples * seq_len].reshape(num_samples, seq_len)\n",
    "    HR_seq = HR[:num_samples * seq_len].reshape(num_samples, seq_len)\n",
    "    label_chunks = labels[:num_samples * seq_len].reshape(num_samples, seq_len)\n",
    "\n",
    "    # Convert to tensors\n",
    "    ecg_seq = torch.tensor(ecg_seq, dtype=torch.float32)\n",
    "    eda_seq = torch.tensor(eda_seq, dtype=torch.float32)\n",
    "    wrist_seq = torch.tensor(wrist_seq, dtype=torch.float32)\n",
    "    HR_seq = torch.tensor(HR_seq, dtype=torch.float32)\n",
    "\n",
    "    # Stack into shape: (num_samples, seq_len, 3)\n",
    "    data = torch.stack((ecg_seq, eda_seq, wrist_seq, HR_seq), dim=2)\n",
    "\n",
    "    # Assign a label per sequence: use majority class (mode)\n",
    "    label_seq = mode(label_chunks, axis=1)[0].squeeze()\n",
    "    label_seq = torch.tensor(label_seq, dtype=torch.float32)  # or long if needed\n",
    "\n",
    "    return data, label_seq\n"
   ]
  },
  {
   "cell_type": "code",
   "execution_count": null,
   "id": "90535d16-aa46-458f-8b58-d10bd53db41d",
   "metadata": {},
   "outputs": [],
   "source": []
  },
  {
   "cell_type": "code",
   "execution_count": 19,
   "id": "8a9dba0e-84cc-4acd-954e-4791851a168d",
   "metadata": {},
   "outputs": [
    {
     "name": "stdout",
     "output_type": "stream",
     "text": [
      "Sample X shape: torch.Size([32, 10, 4])\n",
      "Sample y shape: torch.Size([32])\n"
     ]
    }
   ],
   "source": [
    "chest_ecg_array = df_binary['chest_ecg'].values\n",
    "chest_eda_array = df_binary['chest_eda'].values\n",
    "wrist_eda_array = df_binary['wrist_eda'].values\n",
    "wrist_HR_array = df_binary['HR'].values\n",
    "labels= df_binary['label'].values\n",
    "\n",
    "sequence_length=10\n",
    "X, y = create_sequences(chest_ecg_array, chest_eda_array, wrist_eda_array, wrist_HR_array, labels, sequence_length)\n",
    "\n",
    "# Train-test split (80-20 split)\n",
    "X_train, X_test, y_train, y_test = train_test_split(X, y, test_size=0.1, random_state=42, stratify=y)\n",
    "\n",
    "train_dataset = StressDataset(X_train, y_train)\n",
    "test_dataset = StressDataset(X_test, y_test)\n",
    "\n",
    "# Create DataLoaders\n",
    "train_loader = DataLoader(train_dataset, batch_size=32, shuffle=True)\n",
    "test_loader = DataLoader(test_dataset, batch_size=32, shuffle=False)\n",
    "\n",
    "# Check data shape\n",
    "sample_X, sample_y = next(iter(train_loader))\n",
    "print(f\"Sample X shape: {sample_X.shape}\")  # Expected: (32, 10, 4)\n",
    "print(f\"Sample y shape: {sample_y.shape}\")  # Expected: (32,)\n"
   ]
  },
  {
   "cell_type": "code",
   "execution_count": 22,
   "id": "18182c55-c459-486c-a071-a2235b832f08",
   "metadata": {},
   "outputs": [],
   "source": [
    "# Hyperparameters\n",
    "input_size = 4  # Two features from chest, two from wrist\n",
    "hidden_size = 64\n",
    "num_layers = 4\n",
    "output_size = 1  \n",
    "learning_rate = 0.001\n",
    "epochs = 50\n",
    "\n",
    "# Model, Loss, and Optimizer\n",
    "model = StressLSTM(input_size, hidden_size, num_layers, output_size)\n",
    "criterion = nn.BCEWithLogitsLoss()  # Binary Classification Loss\n",
    "optimizer = optim.Adam(model.parameters(), lr=learning_rate)\n"
   ]
  },
  {
   "cell_type": "code",
   "execution_count": 23,
   "id": "a97e8c7a-358e-4e35-a804-b8016795e8d3",
   "metadata": {},
   "outputs": [],
   "source": [
    "@torch.enable_grad()\n",
    "def train_epoch(model, data_loader, loss_fn, optimizer, device):\n",
    "    \"\"\"Performs one training epoch.\"\"\"\n",
    "    model.train()\n",
    "    model.to(device)\n",
    "\n",
    "    for data, labels in data_loader:  # Unpacking correctly\n",
    "        data, labels = data.to(device), labels.to(device)\n",
    "\n",
    "        optimizer.zero_grad()\n",
    "        outputs = model(data)  # Forward pass\n",
    "        loss = loss_fn(outputs.squeeze(), labels.float())  # BCE Loss expects shape (batch,)\n",
    "        \n",
    "        loss.backward()\n",
    "        optimizer.step()\n",
    "\n",
    "\n",
    "@torch.inference_mode()\n",
    "def eval_epoch(model, data_loader, loss_fn, device):\n",
    "    \"\"\"Evaluates the model on the dataset.\"\"\"\n",
    "    model.eval()\n",
    "    model.to(device)\n",
    "\n",
    "    total_loss = 0.0\n",
    "    total_samples = 0\n",
    "\n",
    "    for data, labels in data_loader:  # Dataset returns (data, labels)\n",
    "        data, labels = data.to(device), labels.to(device)\n",
    "\n",
    "        outputs = model(data)  # Forward pass\n",
    "        loss = loss_fn(outputs.squeeze(), labels.float())\n",
    "\n",
    "        total_loss += loss.item() * len(labels)\n",
    "        total_samples += len(labels)\n",
    "\n",
    "    return total_loss / total_samples\n",
    "\n",
    "\n",
    "def train(\n",
    "    model: nn.Module,\n",
    "    train_dataset: Dataset,\n",
    "    loss_fn: nn.Module = nn.BCEWithLogitsLoss(),\n",
    "    device: str = \"cuda\" if torch.cuda.is_available() else \"cpu\",\n",
    "    optimizer_name: str = \"Adam\",\n",
    "    optimizer_config: dict = {\"lr\": 0.001},\n",
    "    n_epochs: int = 10,\n",
    "    batch_size: int = 32,\n",
    "):\n",
    "    \"\"\"Trains the model for multiple epochs.\"\"\"\n",
    "    model.to(device)\n",
    "\n",
    "    train_loader = DataLoader(train_dataset, batch_size=batch_size, shuffle=True)\n",
    "    optimizer = getattr(optim, optimizer_name)(model.parameters(), **optimizer_config)\n",
    "\n",
    "    epoch_pbar = tqdm(range(n_epochs), desc=\"Epochs\", unit=\"epoch\", leave=True)\n",
    "\n",
    "    for epoch in epoch_pbar:\n",
    "        train_epoch(model, train_loader, loss_fn, optimizer, device)\n",
    "\n",
    "        train_loss = eval_epoch(model, train_loader, loss_fn, device)\n",
    "\n",
    "        epoch_pbar.set_postfix_str(f\"Loss: {train_loss:.6f}\")"
   ]
  },
  {
   "cell_type": "code",
   "execution_count": 24,
   "id": "dd98a242-77b3-4562-84c7-e5da0116c055",
   "metadata": {},
   "outputs": [
    {
     "name": "stderr",
     "output_type": "stream",
     "text": [
      "Epochs:   0%|                                                                                | 0/50 [00:00<?, ?epoch/s]D:\\Anaconda\\lib\\site-packages\\torch\\nn\\modules\\conv.py:304: UserWarning: Using padding='same' with even kernel lengths and odd dilation may require a zero-padded copy of the input be created (Triggered internally at C:\\cb\\pytorch_1000000000000\\work\\aten\\src\\ATen\\native\\Convolution.cpp:1032.)\n",
      "  return F.conv1d(input, weight, bias, self.stride,\n",
      "Epochs: 100%|███████████████████████████████████████████████████████| 50/50 [04:09<00:00,  4.98s/epoch, Loss: 0.059267]\n"
     ]
    }
   ],
   "source": [
    "train(model, train_dataset, loss_fn=criterion, n_epochs=epochs, batch_size=32)\n"
   ]
  },
  {
   "cell_type": "code",
   "execution_count": 30,
   "id": "beae213c-7264-4a2e-884b-6b2d6883ca9e",
   "metadata": {},
   "outputs": [],
   "source": [
    "from sklearn.metrics import accuracy_score, f1_score\n",
    "\n",
    "def evaluate_test_model(model, test_loader, device):\n",
    "    \"\"\"Evaluates the model on the test dataset and computes accuracy and F1 score.\"\"\"\n",
    "    model.eval()\n",
    "    model.to(device)\n",
    "\n",
    "    all_labels = []\n",
    "    all_predictions = []\n",
    "\n",
    "    with torch.no_grad():\n",
    "        for data, labels in test_loader:\n",
    "            data, labels = data.to(device), labels.to(device)\n",
    "            \n",
    "            # Make predictions\n",
    "            outputs = model(data)\n",
    "            predictions = torch.sigmoid(outputs).round()  # Sigmoid + round for binary classification\n",
    "\n",
    "            all_labels.append(labels.cpu().numpy())\n",
    "            all_predictions.append(predictions.cpu().numpy())\n",
    "\n",
    "    # Convert to numpy arrays for easier handling\n",
    "    all_labels = np.concatenate(all_labels, axis=0)\n",
    "    all_predictions = np.concatenate(all_predictions, axis=0)\n",
    "\n",
    "    # Calculate accuracy and F1 score\n",
    "    accuracy = accuracy_score(all_labels, all_predictions)\n",
    "    f1 = f1_score(all_labels, all_predictions)\n",
    "\n",
    "    return accuracy, f1, all_labels, all_predictions\n"
   ]
  },
  {
   "cell_type": "code",
   "execution_count": 32,
   "id": "88cf6788-244c-4da1-8521-48b3759e770b",
   "metadata": {},
   "outputs": [
    {
     "name": "stdout",
     "output_type": "stream",
     "text": [
      "Test Accuracy: 0.9420\n",
      "Test F1 Score: 0.9238\n"
     ]
    }
   ],
   "source": [
    "accuracy, f1, all_labels, all_predictions = evaluate_test_model(model, test_loader, device='cpu')\n",
    "\n",
    "print(f\"Test Accuracy: {accuracy:.4f}\")\n",
    "print(f\"Test F1 Score: {f1:.4f}\")"
   ]
  },
  {
   "cell_type": "code",
   "execution_count": 34,
   "id": "3a2ba0c1-274c-4a4e-9736-10c7809885c0",
   "metadata": {},
   "outputs": [
    {
     "name": "stdout",
     "output_type": "stream",
     "text": [
      "Precision: 0.9309\n",
      "Recall   : 0.9504\n"
     ]
    }
   ],
   "source": [
    "from sklearn.metrics import precision_score, recall_score\n",
    "\n",
    "precision = precision_score(all_labels, all_predictions, average='macro')\n",
    "recall = recall_score(all_labels, all_predictions, average='macro')\n",
    "\n",
    "print(f'Precision: {precision:.4f}')\n",
    "print(f'Recall   : {recall:.4f}')\n"
   ]
  },
  {
   "cell_type": "code",
   "execution_count": 36,
   "id": "da761217-a106-4acf-9ce1-615b15a7dc6d",
   "metadata": {},
   "outputs": [
    {
     "data": {
      "image/png": "[encoded data removed]",
      "text/plain": [
       "<Figure size 600x500 with 2 Axes>"
      ]
     },
     "metadata": {},
     "output_type": "display_data"
    }
   ],
   "source": [
    "from sklearn.metrics import confusion_matrix\n",
    "import seaborn as sns\n",
    "import matplotlib.pyplot as plt\n",
    "import pandas as pd\n",
    "\n",
    "# Create DataFrame\n",
    "df = pd.DataFrame({'Actual': all_labels.flatten(), 'Predicted': all_predictions.flatten()})\n",
    "\n",
    "# Compute confusion matrix\n",
    "cm = confusion_matrix(df['Actual'], df['Predicted'])\n",
    "\n",
    "# Plot the confusion matrix\n",
    "plt.figure(figsize=(6, 5))\n",
    "sns.heatmap(cm, annot=True, cmap='Blues', fmt='d', linewidths=0.5, xticklabels=['Normal', 'Stress'], yticklabels=['Normal', 'Stress'])\n",
    "plt.xlabel(\"Predicted Label\")\n",
    "plt.ylabel(\"Actual Label\")\n",
    "plt.title(\"Confusion Matrix: Stress vs Normal\")\n",
    "plt.show()\n"
   ]
  },
  {
   "cell_type": "code",
   "execution_count": 38,
   "id": "678c13eb-0301-4cdb-964c-35844c09deed",
   "metadata": {},
   "outputs": [
    {
     "name": "stdout",
     "output_type": "stream",
     "text": [
      "Train labels: (tensor([0., 1.]), tensor([1588,  893]))\n",
      "Test labels : (tensor([0., 1.]), tensor([177,  99]))\n"
     ]
    }
   ],
   "source": [
    "print(\"Train labels:\", torch.unique(y_train, return_counts=True))\n",
    "print(\"Test labels :\", torch.unique(y_test, return_counts=True))"
   ]
  },
  {
   "cell_type": "code",
   "execution_count": 39,
   "id": "db53ac01-cba5-4f17-83a9-d857541713db",
   "metadata": {},
   "outputs": [
    {
     "data": {
      "image/png": "[encoded data removed]",
      "text/plain": [
       "<Figure size 700x500 with 1 Axes>"
      ]
     },
     "metadata": {},
     "output_type": "display_data"
    }
   ],
   "source": [
    "from sklearn.metrics import roc_curve, auc\n",
    "import matplotlib.pyplot as plt\n",
    "\n",
    "# Ensure labels and predictions are binary (0 = Normal, 1 = Stress)\n",
    "fpr, tpr, _ = roc_curve(all_labels.flatten(), all_predictions.flatten())  \n",
    "roc_auc = auc(fpr, tpr)  # Compute AUC\n",
    "\n",
    "# Plot the ROC curve\n",
    "plt.figure(figsize=(7, 5))\n",
    "plt.plot(fpr, tpr, color='blue', lw=2, label=f'ROC curve (AUC = {roc_auc:.2f})')\n",
    "plt.plot([0, 1], [0, 1], color='gray', linestyle='--')  # Random classifier line\n",
    "plt.xlim([0.0, 1.0])\n",
    "plt.ylim([0.0, 1.05])\n",
    "plt.xlabel('False Positive Rate')\n",
    "plt.ylabel('True Positive Rate')\n",
    "plt.title('Receiver Operating Characteristic (ROC) Curve')\n",
    "plt.legend(loc='lower right')\n",
    "plt.grid()\n",
    "plt.show()\n"
   ]
  },
  {
   "cell_type": "code",
   "execution_count": 46,
   "id": "3de35448-ca42-4ef6-83c5-893dfe5d3b30",
   "metadata": {},
   "outputs": [],
   "source": [
    "torch.save(model.state_dict(),'LSTM_FCN_weights.pt')"
   ]
  },
  {
   "cell_type": "code",
   "execution_count": 48,
   "id": "f1fdb651-8032-46aa-b5ca-c75886519de0",
   "metadata": {},
   "outputs": [
    {
     "name": "stdout",
     "output_type": "stream",
     "text": [
      "StressLSTM(\n",
      "  (lstm): LSTM(4, 64, num_layers=4, batch_first=True)\n",
      "  (lstm_dropout): Dropout(p=0.8, inplace=False)\n",
      "  (conv1): Conv1d(4, 128, kernel_size=(8,), stride=(1,), padding=same)\n",
      "  (bn1): BatchNorm1d(128, eps=1e-05, momentum=0.1, affine=True, track_running_stats=True)\n",
      "  (relu1): ReLU()\n",
      "  (conv2): Conv1d(128, 256, kernel_size=(5,), stride=(1,), padding=same)\n",
      "  (bn2): BatchNorm1d(256, eps=1e-05, momentum=0.1, affine=True, track_running_stats=True)\n",
      "  (relu2): ReLU()\n",
      "  (conv3): Conv1d(256, 128, kernel_size=(3,), stride=(1,), padding=same)\n",
      "  (bn3): BatchNorm1d(128, eps=1e-05, momentum=0.1, affine=True, track_running_stats=True)\n",
      "  (relu3): ReLU()\n",
      "  (global_pool): AdaptiveAvgPool1d(output_size=1)\n",
      "  (fc): Linear(in_features=192, out_features=1, bias=True)\n",
      ")\n"
     ]
    }
   ],
   "source": [
    "print(model)"
   ]
  },
  {
   "cell_type": "code",
   "execution_count": 54,
   "id": "d96aec05-4c35-420c-995d-18f37deca60a",
   "metadata": {},
   "outputs": [
    {
     "data": {
      "text/plain": [
       "['input_FCN_scaler.pkl']"
      ]
     },
     "execution_count": 54,
     "metadata": {},
     "output_type": "execute_result"
    }
   ],
   "source": [
    "# Assume X_train shape = (num_sequences, seq_len, 4)\n",
    "X_flat = X_train.reshape(-1, X_train.shape[-1])  # Shape: (num_sequences * seq_len, 4)\n",
    "\n",
    "from sklearn.preprocessing import StandardScaler\n",
    "scaler = StandardScaler()\n",
    "scaler.fit(X_flat)\n",
    "\n",
    "import joblib\n",
    "joblib.dump(scaler, \"input_FCN_scaler.pkl\")\n"
   ]
  },
  {
   "cell_type": "code",
   "execution_count": null,
   "id": "907339e8-b36e-4bc5-b0fb-dc3ae045358b",
   "metadata": {},
   "outputs": [],
   "source": [
    "%matplotlib widget\n"
   ]
  },
  {
   "cell_type": "code",
   "execution_count": null,
   "id": "5f5f4e1c-a303-4f54-a29b-9ff8d4a86ffb",
   "metadata": {},
   "outputs": [],
   "source": [
    "import matplotlib.pyplot as plt\n",
    "plt.rcParams.update({'figure.autolayout': True})\n",
    "import ipywidgets as widgets\n",
    "from IPython.display import display, clear_output\n",
    "try:\n",
    "    from google.colab import output\n",
    "    output.enable_custom_widget_manager()\n",
    "except ImportError:\n",
    "    pass\n",
    "try:\n",
    "    %matplotlib widget\n",
    "except:\n",
    "    os.system('pip install ipympl -qq')\n",
    "    %matplotlib widget\n",
    "\n",
    "\n",
    "class StressViz:\n",
    "\n",
    "    def __init__(\n",
    "            self,\n",
    "            dataset: Dataset,\n",
    "            model: nn.Module,\n",
    "    ):\n",
    "        self.dataset = dataset\n",
    "        self.model = model.eval().cpu()\n",
    "\n",
    "    @torch.inference_mode()\n",
    "    def viz_sample(\n",
    "            self,\n",
    "            idx: int,\n",
    "    ):\n",
    "        plt.close()\n",
    "        (data, labels) = self.dataset[idx]\n",
    "        data = data.unsqueeze(0)  # Add batch dimension\n",
    "        labels = labels.numpy()\n",
    "\n",
    "        pred= self.model(data)  # Get predictions\n",
    "\n",
    "        # Plot true vs predicted stress levels\n",
    "        plt.figure(figsize=(10, 5))\n",
    "        plt.plot(labels, label=\"True Stress Level\", linestyle=\"--\", color=\"blue\")\n",
    "        plt.plot(pred.numpy().squeeze(), label=\"Predicted Stress Level\", linestyle=\"-\", color=\"red\")\n",
    "        plt.xlabel(\"Time Step\")\n",
    "        plt.ylabel(\"Stress Level\")\n",
    "        plt.title(f\"True vs Predicted Stress for Sample {idx}\")\n",
    "        plt.legend()\n",
    "        plt.grid(linestyle=\"--\")\n",
    "        plt.show()\n",
    "\n",
    "    @torch.inference_mode()\n",
    "    def viz_hr_eda(self, hr, eda):\n",
    "        \"\"\"\n",
    "        Visualizes stress prediction evolution over time based on HR & EDA inputs.\n",
    "        \"\"\"\n",
    "        seq_length = len(hr)\n",
    "        hr = torch.tensor(hr, dtype=torch.float32).unsqueeze(1)  # Shape: (seq_len, 1)\n",
    "        eda = torch.tensor(eda, dtype=torch.float32).unsqueeze(1)  # Shape: (seq_len, 1)\n",
    "        data = torch.cat([hr, eda], dim=1).unsqueeze(0)  # Shape: (1, seq_len, 2)\n",
    "\n",
    "        pred, _ = self.model(data)\n",
    "\n",
    "        plt.figure(figsize=(10, 5))\n",
    "        plt.plot(pred.numpy().squeeze(), label=\"Predicted Stress Level\", linestyle=\"-\", color=\"red\")\n",
    "        plt.xlabel(\"Time Step\")\n",
    "        plt.ylabel(\"Stress Level\")\n",
    "        plt.title(\"Predicted Stress Over Time\")\n",
    "        plt.legend()\n",
    "        plt.grid(linestyle=\"--\")\n",
    "        plt.show()\n",
    "\n",
    "    def run_interactive_viz(self):\n",
    "        \"\"\"\n",
    "        Provides an interactive widget to adjust HR & EDA values and observe stress predictions.\n",
    "        \"\"\"\n",
    "\n",
    "        self.hr_slider = widgets.FloatSlider(\n",
    "            value=75, min=50, max=150, step=1, description=\"HR (bpm)\", continuous_update=True\n",
    "        )\n",
    "        self.eda_slider = widgets.FloatSlider(\n",
    "            value=0.5, min=0.1, max=2.0, step=0.05, description=\"EDA (μS)\", continuous_update=True\n",
    "        )\n",
    "\n",
    "        def update_plot(hr, eda):\n",
    "            \"\"\"\n",
    "            Callback function to update visualization based on HR & EDA slider values.\n",
    "            \"\"\"\n",
    "            hr_values = [hr] * 50  # Simulate a short time series\n",
    "            eda_values = [eda] * 50\n",
    "            self.viz_hr_eda(hr_values, eda_values)\n",
    "\n",
    "        widgets.interact(update_plot, hr=self.hr_slider, eda=self.eda_slider)\n",
    "\n",
    "        clear_output(wait=True)\n",
    "        display(self.hr_slider, self.eda_slider)\n",
    "\n",
    "viz = StressViz(dataset=test_dataset, model=model)\n",
    "viz.viz_sample(idx=1)  # Replace 5 with any sample index"
   ]
  },
  {
   "cell_type": "code",
   "execution_count": null,
   "id": "2c841512-b1dc-49b7-9243-da1c922751e0",
   "metadata": {},
   "outputs": [],
   "source": [
    "@torch.inference_mode()\n",
    "def viz_hr_eda(self, chest_ecg_array, chest_eda_array, wrist_eda_array, wrist_HR_array):\n",
    "    \"\"\"\n",
    "    Visualizes stress prediction evolution over time using all 4 input features.\n",
    "    \"\"\"\n",
    "    seq_length = len(chest_eda)\n",
    "\n",
    "    # Convert all to tensors with shape (seq_len, 1)\n",
    "    chest_eda = torch.tensor(chest_eda_array, dtype=torch.float32).unsqueeze(1)\n",
    "    chest_ecg = torch.tensor(chest_ecg_array, dtype=torch.float32).unsqueeze(1)\n",
    "    wrist_eda = torch.tensor(wrist_eda_array, dtype=torch.float32).unsqueeze(1)\n",
    "    wrist_hr  = torch.tensor(wrist_HR_array, dtype=torch.float32).unsqueeze(1)\n",
    "\n",
    "    # Concatenate → shape: (seq_len, 4)\n",
    "    data = torch.cat([chest_eda, chest_ecg, wrist_eda, wrist_hr], dim=1).unsqueeze(0)  # shape: (1, seq_len, 4)\n",
    "\n",
    "    pred = self.model(data)\n",
    "    if isinstance(pred, tuple):\n",
    "        pred = pred[0]\n",
    "\n",
    "    plt.figure(figsize=(10, 5))\n",
    "    plt.plot(pred.numpy().squeeze(), label=\"Predicted Stress Level\", linestyle=\"-\", color=\"red\")\n",
    "    plt.xlabel(\"Time Step\")\n",
    "    plt.ylabel(\"Stress Level\")\n",
    "    plt.title(\"Predicted Stress Over Time\")\n",
    "    plt.legend()\n",
    "    plt.grid(linestyle=\"--\")\n",
    "    plt.show()\n"
   ]
  },
  {
   "cell_type": "code",
   "execution_count": null,
   "id": "9b332e28-37c3-45e1-b1f0-951b6e310d5a",
   "metadata": {},
   "outputs": [],
   "source": [
    "seq_len = 50\n",
    "viz = StressViz(dataset=test_dataset, model=model)\n",
    "\n",
    "\n",
    "# Simulated 50-timestep signals\n",
    "chest_eda = np.random.normal(0.4, 0.05, seq_len)    # EDA in µS\n",
    "chest_ecg = np.random.normal(0.9, 0.1, seq_len)     # Simulated ECG value\n",
    "wrist_eda = np.random.normal(0.5, 0.05, seq_len)    # Wrist EDA\n",
    "wrist_hr  = np.random.normal(75, 5, seq_len)        # HR in bpm\n",
    "\n",
    "viz.viz_hr_eda(chest_eda, chest_ecg, wrist_eda, wrist_hr)\n"
   ]
  },
  {
   "cell_type": "code",
   "execution_count": null,
   "id": "b87dff09-d3c1-4795-9002-6930c319deed",
   "metadata": {},
   "outputs": [],
   "source": [
    "class StressViz:\n",
    "\n",
    "    def __init__(self, dataset: Dataset, model: nn.Module):\n",
    "        self.dataset = dataset\n",
    "        self.model = model.eval().cpu()\n",
    "\n",
    "    @torch.inference_mode()\n",
    "    def viz_hr_eda(self, chest_ecg_array, chest_eda_array, wrist_eda_array, wrist_HR_array):\n",
    "        \"\"\"\n",
    "        Visualizes stress prediction evolution over time using all 4 input features.\n",
    "        \"\"\"\n",
    "        seq_length = len(chest_eda_array)\n",
    "\n",
    "        # Convert all to tensors with shape (seq_len, 1)\n",
    "        chest_eda = torch.tensor(chest_eda_array, dtype=torch.float32).unsqueeze(1)\n",
    "        chest_ecg = torch.tensor(chest_ecg_array, dtype=torch.float32).unsqueeze(1)\n",
    "        wrist_eda = torch.tensor(wrist_eda_array, dtype=torch.float32).unsqueeze(1)\n",
    "        wrist_hr  = torch.tensor(wrist_HR_array, dtype=torch.float32).unsqueeze(1)\n",
    "\n",
    "        # Concatenate → shape: (seq_len, 4)\n",
    "        data = torch.cat([chest_eda, chest_ecg, wrist_eda, wrist_hr], dim=1).unsqueeze(0)  # shape: (1, seq_len, 4)\n",
    "\n",
    "        pred = self.model(data)\n",
    "        if isinstance(pred, tuple):\n",
    "            pred = pred[0]\n",
    "\n",
    "        plt.figure(figsize=(10, 5))\n",
    "        plt.plot(pred.numpy().squeeze(), label=\"Predicted Stress Level\", linestyle=\"-\", color=\"red\")\n",
    "        plt.xlabel(\"Time Step\")\n",
    "        plt.ylabel(\"Stress Level\")\n",
    "        plt.title(\"Predicted Stress Over Time\")\n",
    "        plt.legend()\n",
    "        plt.grid(linestyle=\"--\")\n",
    "        plt.show()\n"
   ]
  },
  {
   "cell_type": "code",
   "execution_count": null,
   "id": "ff009065-09e2-4238-acfa-d52cd7b8609b",
   "metadata": {},
   "outputs": [],
   "source": [
    "viz = StressViz(dataset=test_dataset, model=model)\n",
    "\n",
    "# Simulated 50-timestep signals\n",
    "seq_len = 60\n",
    "chest_eda = np.random.normal(0.4, 0.05, seq_len)\n",
    "chest_ecg = np.random.normal(0.9, 0.1, seq_len)\n",
    "wrist_eda = np.random.normal(0.5, 0.05, seq_len)\n",
    "wrist_hr  = np.random.normal(75, 5, seq_len)\n",
    "\n",
    "viz.viz_hr_eda(chest_ecg, chest_eda, wrist_eda, wrist_hr)\n"
   ]
  },
  {
   "cell_type": "code",
   "execution_count": null,
   "id": "6d09b0a3-5c4c-45f6-8ff2-e720f8939b2a",
   "metadata": {},
   "outputs": [],
   "source": [
    "viz.run_interactive_viz()\n"
   ]
  },
  {
   "cell_type": "code",
   "execution_count": null,
   "id": "ea3c46b2-866a-427a-811b-a7f8d8e53367",
   "metadata": {},
   "outputs": [],
   "source": [
    "\"\"\"\n",
    "Visualize the flow for arbitrary flow parameters amd number of time-steps.\n",
    "You can see the effect of the flow parameter.\n",
    "\"\"\"\n",
    "if __name__ == '__main__':\n",
    "    flow_viz = StressViz(test_dataset, model)\n",
    "    viz.viz_hr_eda(chest_ecg, chest_eda, wrist_eda, wrist_hr)"
   ]
  }
 ],
 "metadata": {
  "kernelspec": {
   "display_name": "Python 3 (ipykernel)",
   "language": "python",
   "name": "python3"
  },
  "language_info": {
   "codemirror_mode": {
    "name": "ipython",
    "version": 3
   },
   "file_extension": ".py",
   "mimetype": "text/x-python",
   "name": "python",
   "nbconvert_exporter": "python",
   "pygments_lexer": "ipython3",
   "version": "3.9.18"
  }
 },
 "nbformat": 4,
 "nbformat_minor": 5
}
